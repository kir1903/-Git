{
  "nbformat": 4,
  "nbformat_minor": 0,
  "metadata": {
    "colab": {
      "provenance": []
    },
    "kernelspec": {
      "name": "python3",
      "display_name": "Python 3"
    },
    "language_info": {
      "name": "python"
    }
  },
  "cells": [
    {
      "cell_type": "code",
      "execution_count": 1,
      "metadata": {
        "colab": {
          "base_uri": "https://localhost:8080/"
        },
        "id": "4V2GYd5HWWMc",
        "outputId": "7a35b368-6130-418a-e97a-7c4213b3c998"
      },
      "outputs": [
        {
          "output_type": "stream",
          "name": "stdout",
          "text": [
            "1 месяц время года: Зима\n",
            "4 месяц время года: Весна\n",
            "18 месяц: Некорректный номер месяца\n"
          ]
        }
      ],
      "source": [
        "def check_month(month: int):\n",
        "    \"\"\"Напишите ваш код здесь\"\"\"\n",
        "    if month == 1 or month == 2 or month == 12:\n",
        "        result = 'Зима'\n",
        "    elif month >= 3 and month <= 5:\n",
        "        result = 'Весна'\n",
        "    elif month >= 6 and month <= 8:\n",
        "        result = 'Лето'\n",
        "    elif month >= 9 and month <= 11:\n",
        "        result = 'Осень'\n",
        "    else:\n",
        "        result = 'Некорректный номер месяца'\n",
        "    return result\n",
        "if __name__ == '__main__':\n",
        "    # Этот код менять не надо\n",
        "    season = check_month(1)\n",
        "    assert season == 'Зима', \"Ответ должен быть Зима\"\n",
        "    print(f\"1 месяц время года: {season}\")\n",
        "    season = check_month(4)\n",
        "    assert season == 'Весна', \"Ответ должен быть Весна\"\n",
        "    print(f\"4 месяц время года: {season}\")\n",
        "    season = check_month(18)\n",
        "    assert season == \"Некорректный номер месяца\", \"Ответ должен быть 'Некорректный номер месяца'\"\n",
        "    print(f\"18 месяц: {season}\")"
      ]
    }
  ]
}